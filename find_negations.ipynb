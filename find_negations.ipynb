{
 "cells": [
  {
   "cell_type": "code",
   "execution_count": 11,
   "metadata": {},
   "outputs": [],
   "source": [
    "# Open file Samples -  Romantic fiction.tsv\n",
    "with open('Samples - Romantic fiction.tsv', 'r') as file:\n",
    "    text = file.read()\n",
    "\n",
    "# Split the data into rows and then tab separated columns\n",
    "rows = text.split('\\n')\n",
    "data = [row.split('\\t') for row in rows]\n",
    "understatements = data[1:31]\n",
    "understatements_corner = data[32:62]\n"
   ]
  },
  {
   "cell_type": "code",
   "execution_count": 12,
   "metadata": {},
   "outputs": [
    {
     "name": "stdout",
     "output_type": "stream",
     "text": [
      "I was glad of it: [I never liked long walks], especially on chilly afternoons: dreadful to me was the coming home in the raw twilight, with nipped fingers and toes, and a heart saddened by the chidings of Bessie, the nurse, and humbled by the consciousness of my physical inferiority to Eliza, John, and Georgiana Reed.\n",
      "Upon his return, Mr. Ellwood, having penned [just a few lines] to Miss Amelia, thought to himself rather anxiously if this letter would suffice to communicate his undying affection and infinite yearnings. Indeed, not a single evening had passed since their last encounter at the annual Spring ball, where he had not occupied his mind with visions of her graceful silhouette accented by the moonlit garden, nor allowed his heart to dwell on anything less than her laughter, echoing like a melodious symphony in his ears. \n",
      "Sir Charles had always held a slight affection for Miss Elwood, who resided in the quaint cottage by the village green. The quaintness of Miss Elwood's laughter or how her eyes lit up at the simplest of joys had not gone unnoticed by him. When finally he gathered the courage to declare his feelings, which had been simmering like a tea kettle left too long on the hearth, and she accepted his proposal with a joyous heart, Sir Charles's closest friend noted that [he seemed rather pleased].\n",
      "On the day of Lady Hamilton's grand garden party, the heavens opened, and a deluge poured forth as if in anger at the sight of such frivolity beneath. Yet, through it all, Lady Hamilton surveyed the ruin of her meticulously planned soiree, her gowns splattered with mud and her decorations swept away in rivulets of rain, and remarked dryly to her companion, “[It seems we might need an umbrella after all.]”\n",
      "Mr. Collins, always one to prattle on about minor inconveniences, spent nearly an hour lamenting the [tiny disturbance] caused by a loose tile in his study. To everyone’s amusement, this '[tiny disturbance]' merely referred to an inconspicuous bump under the carpet, hardly noticeable and far from the disastrous flaw he so dramatically portrayed it to be.\n",
      "In the delicate glow of the twilight, Lady Harriet wandered through the gardens, her mind as tumultuous as the winds before a storm. She was to meet Sir Charles, the man she had only briefly encountered at the annual spring ball. Yet, mere hours before their rendezvous, she had learned of his altruistic deeds in the nearby village, where he had discreetly funded the rebuilding of the local school. Feeling somewhat [overwhelmed by his generosity], she pondered if her initial impressions of him had been too hasty, perhaps shaded by the trivial gossip of envious onlookers.\n",
      "At the dinner party, Lord Thompson remarked that the viscount’s new carriage was [not unremarkable]. In reality, the carriage was quite ordinary, lacking the expected opulence.\n",
      "Finally, during the town's harvest festival, Mrs. Ellwood commented to her companion that the turnout was [quite decent]. In truth, the attendance was exactly as one would expect for such a local event—not overwhelmingly large, but sufficiently attended to fill the village square and create a genial atmosphere of community and merriment.\n",
      "The village feast was an event anticipated with much enthusiasm. Sir Reginald, upon tasting the roasted pheasant, declared it \"[not too bad].\" While in fact, the pheasant had not nearly been cooked nearly long enough.\n",
      "Sir Charles, upon receiving the news that his beloved, though a trifle tardy, had accepted his proposal, exclaimed to his friend, \"[I am not absolutely miserable anymore].\" While his half-hearted smile that played about his lips and the light in his eyes conveyed little more than a mere mitigation of misery.\n",
      "At dinner, Miss Thorne tasted the chef's newest creation, a pecan pie, and declared it [not too sweet], for the dessert was indeed concocted with only a modest amount of sugar, catering to the preferences of those who favored less sugary treats, demonstrating the chef's attention to the varied tastes of his patrons.\n",
      "In the tranquil abode of Hartfield, where Miss Woodhouse reigned supreme in charm and wit, there was always a flurry of visitors drawn by her fetching manners. Among them was Mr. Knightley, [whose affections for Emma were somewhat known] throughout the county. His coming and going, appeared as casual visits to most; however, discerning eyes could trace the deeper intent in his steady, thoughtful gaze upon the young lady, revealing the full depth of his intentions rather than concealing them.\n",
      "During an afternoon stroll beside the lake, Mr. Collin's companion spoke admiringly of the manor’s extensive gardens. \"The estate is [a little bit magnificent], don't you agree?\" she remarked breezily, watching a swan glide by. Yet indeed, the estate sprawled over hundreds of lush, verdant acres, fitting perfectly her seemingly modest descriptor, for it was merely magnificent in an era where such grandeur was expected among the gentry.\n",
      "At the assembly dance, the room was alight with whispers and discreet exchanges. Mr. Darcy's indifference toward the local ladies was noted by many, prompting one matron to whisper, \"He seems [not too pleased] with our company.\" Considering Mr. Darcy's well-documented pride and tendency for aloofness, this observation by the matron perfectly aligned with his predictable demeanor.\n",
      "[John had not much affection for his mother and sisters], and an antipathy to me. He bullied and punished me; not two or three times in the week, nor once or twice in the day, but continually: every nerve I had feared him, and every morsel of flesh in my bones shrank when he came near. There were moments when I was bewildered by the terror he inspired, because I had no appeal whatever against either his menaces or his inflictions; the servants did not like to offend their young master by taking my part against him, and Mrs. Reed was blind and deaf on the subject: she never saw him strike or heard him abuse me, though he did both now and then in her very presence, more frequently, however, behind her back.\n",
      "The red-room was a square chamber, [very seldom slept in], I might say never, indeed, unless when a chance influx of visitors at Gateshead Hall rendered it necessary to turn to account all the accommodation it contained: yet it was one of the largest and stateliest chambers in the mansion. A bed supported on massive pillars of mahogany, hung with curtains of deep red damask, stood out like a tabernacle in the centre; the two large windows, with their blinds always drawn down, were half shrouded in festoons and falls of similar drapery; the carpet was red; the table at the foot of the bed was covered with a crimson cloth; the walls were a soft fawn colour with a blush of pink in it; the wardrobe, the toilet-table, the chairs were of darkly polished old mahogany. Out of these deep surrounding shades rose high, and glared white, the piled-up mattresses and pillows of the bed, spread with a snowy Marseilles counterpane. Scarcely less prominent was an ample cushioned easy-chair near the head of the bed, also white, with a footstool before it; and looking, as I thought, like a pale throne.\n",
      "His sisters were very anxious for his having an estate of his own; but though he was now established only as a tenant, Miss Bingley was [by no means unwilling to preside at his table]; nor was Mrs. Hurst, who had married a man of more fashion than fortune, less disposed to consider his house as her home when it suited her. Mr. Bingley had not been of age two years when he was tempted, by an accidental recommendation, to look at Netherfield House. He did look at it, and into it, for half an hour; was pleased with the situation and the principal rooms, satisfied with what the owner said in its praise, and took it immediately.\n",
      "During her afternoon ride through the countryside, Miss Eleanor [felt a slight chill] as a brisk breeze swept across the open fields. She drew her cloak tighter, not out of any pressing need for warmth but merely as a prelude to the coming evening's drop in temperature. The air was, after all, tinged with the crisp aroma of impending autumn.\n",
      "At the village dance, Emma found herself partnered with Mr. Harwood, [a gentleman of some repute in the art of dance]. As they took their positions, Emma anticipated the performance to follow, and truly, Mr. Harwood's steps were precise, his rhythm unwavering. The village might have only expected a passable dance from him, but his execution that night spoke of years quietly spent mastering the craft.\n",
      "Upon receiving her results from the pianoforte examination, Miss Lydia Bennett could hardly contain her joy as the score revealed her proficiency. With a beaming smile, she said, \"[I suppose I did quite all right].\" The modesty in Miss Bennett's words, who always set tremendously high standards for herself and was known for her meticulousness, expressed precisely her genuine, if stringent, self-assessment.\n",
      "But why Mr. Darcy came so often to the Parsonage it was more difficult to understand. It could not be for society, as he frequently sat there ten minutes together without opening his lips; and when he did speak, it seemed the effect of necessity rather than of choice—a sacrifice to propriety, not a pleasure to himself. [He seldom appeared really animated]. Mrs. Collins knew not what to make of him. \n",
      "Edward's return from the naval excursion was anticipated with much emotion by his family. When his sister, Margaret, first spied the ship on the horizon, she whispered under her breath, “[It’s a relatively small vessel], isn’t it?” Indeed, the ship was on the smaller side by modern naval standards, but perfectly suitable and typical for the type of secretive missions Edward often embarked upon, making the remark straightforward and factual.\n",
      "In the midst of their extravagant and well-attended garden party, Mrs. Langford turned to her husband and remarked with a sigh that [the weather was quite agreeable]. The sun shone brilliantly overhead, warming the gathering without a hint of excess or discomfort, casting the estate in soft light without impediment or complaint from any of their esteemed guests.\n",
      "Upon receiving a bouquet of roses from her secret admirer, Miss Thomson described them as [quite ordinary]. The roses, distinctly vibrant with hues of deep red and emitting a fragrance that filled her modest drawing room, were universally admired by all her visitors, who noted nothing ordinary about their striking beauty and the mysterious romantic gesture they represented.\n",
      "Miss Emma Woodhouse, never one to idle in matters of the heart, [took a tiny interest] in Mr. Knightley's wellbeing when she learned of his autumn illness. This concern, consistent with her usual flutter of worries, however, did not propel her into any immediate action, as Mr. Knightley was known to be a robust man, hardly ever confined to bed by seasonal ailments.\n",
      "When the clock struck midnight at the Marwood estate, [there was a slight stir among the servants], as the old grandfather clock in the hall, known for its sonorous chimes, had struck a tad softer than usual. Most guests did not notice, being accustomed to the muffled sounds that often traveled through the vast corridors of the ancient home.\n",
      "Amelia observed the late arrival of Mr. Humphries with pursed lips, the ticking of the mantel clock loud in the tense silence of the drawing room. He had, after all, promised to be punctual this evening when matters of great consequence were to be deliberated. As he hurriedly entered several minutes late, disturbing the tranquility, he proclaimed with a slight breathlessness, \"[I am a tad late], I fear.\"\n",
      "At the annual summer ball, amidst the grandeur of Lady Catherine's estate, the arrival of the young and handsome Mr. Harwood sent a subtle ripple of interest through the assembly. Many noted his [somewhat noticeable entrance], which, in truth, consisted merely of him quietly slipping into the room without any sort of fanfare or announcement—he was, after all, notoriously shy and preferred to avoid drawing attention to himself. The event continued in its usual spirited fashion, with lively dances and spirited conversations dominating the evening.\n",
      "Finally, as the guests began to take their leave, Mr. Harwood found himself reflecting on the evening. His departure was as unobtrusive as his entrance, leaving many barely aware of [his slight presence throughout the night]. To any observer, however, it was clear he had spent the evening in quiet observation, rarely participating in the dances or engaging in more than cursory conversations. His presence, just like his departure, was perfectly suited to his character, and not the slightest bit understated in terms of social engagement typical for someone of his disposition.\n",
      "Miss Elmore, upon her long-awaited return to the ancestral estate, found it largely as she left it, preserved meticulously by the loyal staff. As she walked through the grand foyer, which had witnessed the steps of countless Elmore generations, she couldn't help but comment on the preservation, \"[It appears not entirely unchanged],\" though in reality, the changes were utterly superficial—a slight rearrangement of furniture and the addition of a few modern books to the shelves.\n"
     ]
    }
   ],
   "source": [
    "def enclose_substring(text, substring, open='[', close=']'):\n",
    "    return text.replace(substring, open + substring + close)\n",
    "\n",
    "for u in understatements:\n",
    "    text = enclose_substring(u[2], u[1])\n",
    "    print(text)\n",
    "\n",
    "for u in understatements_corner:\n",
    "    text = enclose_substring(u[2], u[1])\n",
    "    print(text)"
   ]
  },
  {
   "cell_type": "code",
   "execution_count": null,
   "metadata": {},
   "outputs": [],
   "source": []
  },
  {
   "cell_type": "code",
   "execution_count": null,
   "metadata": {},
   "outputs": [],
   "source": []
  }
 ],
 "metadata": {
  "kernelspec": {
   "display_name": "Python 3",
   "language": "python",
   "name": "python3"
  },
  "language_info": {
   "codemirror_mode": {
    "name": "ipython",
    "version": 3
   },
   "file_extension": ".py",
   "mimetype": "text/x-python",
   "name": "python",
   "nbconvert_exporter": "python",
   "pygments_lexer": "ipython3",
   "version": "3.9.1"
  }
 },
 "nbformat": 4,
 "nbformat_minor": 2
}
